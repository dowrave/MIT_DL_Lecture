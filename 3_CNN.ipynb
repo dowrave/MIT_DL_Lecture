{
  "nbformat": 4,
  "nbformat_minor": 0,
  "metadata": {
    "colab": {
      "name": "3. CNN.ipynb",
      "private_outputs": true,
      "provenance": [],
      "authorship_tag": "ABX9TyOsHvDw1alLnXfL3j8gBpYe",
      "include_colab_link": true
    },
    "kernelspec": {
      "name": "python3",
      "display_name": "Python 3"
    },
    "language_info": {
      "name": "python"
    }
  },
  "cells": [
    {
      "cell_type": "markdown",
      "metadata": {
        "id": "view-in-github",
        "colab_type": "text"
      },
      "source": [
        "<a href=\"https://colab.research.google.com/github/dowrave/MIT_DL_Lecture/blob/main/3_CNN.ipynb\" target=\"_parent\"><img src=\"https://colab.research.google.com/assets/colab-badge.svg\" alt=\"Open In Colab\"/></a>"
      ]
    },
    {
      "cell_type": "code",
      "execution_count": null,
      "metadata": {
        "id": "BCChNlbTUy5G"
      },
      "outputs": [],
      "source": [
        "import tensorflow as tf"
      ]
    },
    {
      "cell_type": "code",
      "source": [
        "def generate_model():\n",
        "  model = tf.keras.Sequential([\n",
        "                               tf.keras.layers.Conv2D(32, filter_size = 3, activation = 'relu'),\n",
        "                               tf.keras.layers.MaxPool2D(pool_size = 2, strides = 2),\n",
        "\n",
        "                               tf.keras.layers.Conv2D(64, filter_size = 3, activation = 'relu'),\n",
        "                               tf.keras.layers.MaxPool2D(pool_size = 2, strides = 2),\n",
        "\n",
        "                               tf.keras.layers.Flatten(),\n",
        "                               tf.keras.layers.Dense(1024, activation = 'relu'),\n",
        "                               tf.keras.layers.Dense(10, activation = 'softmax')\n",
        "  ])\n",
        "  return model"
      ],
      "metadata": {
        "id": "0UvT2GkZjM7J"
      },
      "execution_count": null,
      "outputs": []
    },
    {
      "cell_type": "code",
      "source": [
        ""
      ],
      "metadata": {
        "id": "XOfgLCzXjmlu"
      },
      "execution_count": null,
      "outputs": []
    }
  ]
}