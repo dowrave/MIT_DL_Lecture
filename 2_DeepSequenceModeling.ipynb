{
  "nbformat": 4,
  "nbformat_minor": 0,
  "metadata": {
    "colab": {
      "name": "2.DeepSequenceModeling.ipynb",
      "private_outputs": true,
      "provenance": [],
      "collapsed_sections": [],
      "authorship_tag": "ABX9TyNAd0q6caWCLTjLS0n7lbFT",
      "include_colab_link": true
    },
    "kernelspec": {
      "name": "python3",
      "display_name": "Python 3"
    },
    "language_info": {
      "name": "python"
    }
  },
  "cells": [
    {
      "cell_type": "markdown",
      "metadata": {
        "id": "view-in-github",
        "colab_type": "text"
      },
      "source": [
        "<a href=\"https://colab.research.google.com/github/dowrave/MIT_DL_Lecture/blob/main/2_DeepSequenceModeling.ipynb\" target=\"_parent\"><img src=\"https://colab.research.google.com/assets/colab-badge.svg\" alt=\"Open In Colab\"/></a>"
      ]
    },
    {
      "cell_type": "code",
      "execution_count": null,
      "metadata": {
        "id": "ymfBhEHyxEV5"
      },
      "outputs": [],
      "source": [
        "import tensorflow as tf"
      ]
    },
    {
      "cell_type": "markdown",
      "source": [
        "### RNN 기초 Pseudo Code\n",
        "```pseudo\n",
        "my_rnn = RNN()\n",
        "hidden_state = [0, 0, 0, 0]\n",
        "\n",
        "sentence = ['I', \"love\", \"recurrent\", \"neural\"]\n",
        "\n",
        "for word in sentence:\n",
        "  prediction, hidden_state = my_rnn(word, hidden_state)\n",
        "\n",
        "next_word_prediction = prediction\n",
        "```"
      ],
      "metadata": {
        "id": "IXmt9HPv13Y5"
      }
    },
    {
      "cell_type": "code",
      "source": [
        ""
      ],
      "metadata": {
        "id": "y0gK0Gt85mUd"
      },
      "execution_count": null,
      "outputs": []
    },
    {
      "cell_type": "code",
      "source": [
        "class MyRNNCell(tf.keras.layers.Layer):\n",
        "  def __init__(self, rnn_units, input_Dim, output_dim):\n",
        "    super(MyRNNCell, self).__init__()\n",
        "\n",
        "    # 가중치 행렬 초기화\n",
        "    self.W_xh = self.add_weights([rnn_units, input_dim])\n",
        "    self.W_hh = self.add_weights([rnn_units, rnn_units])\n",
        "    self.W_hy = self.add_weights([output_dim, rnn_units])\n",
        "\n",
        "    # 은닉층 '값' 초기화 : 0\n",
        "    self.h = tf.zeros([rnn_units, 1])\n",
        "\n",
        "  def call(self, x):\n",
        "    # 은닉층 업데이트\n",
        "    self.h = tf.math.tanh(self.W_hh * self.h + self.W_xh * x)\n",
        "\n",
        "    # 출력층\n",
        "    output = self.W_hy * self.W.h\n",
        "\n",
        "    return output, self.h"
      ],
      "metadata": {
        "id": "EeGmcOxg4aIx"
      },
      "execution_count": null,
      "outputs": []
    },
    {
      "cell_type": "code",
      "source": [
        "# tf는 역시 이를 지원함 : 위 층이 이거임\n",
        "tf.keras.layers.SimpleRNN(rnn_units)"
      ],
      "metadata": {
        "id": "g-pheYZP5nLY"
      },
      "execution_count": null,
      "outputs": []
    },
    {
      "cell_type": "code",
      "source": [
        "# 딱히 여기 정리할 내용은 없다."
      ],
      "metadata": {
        "id": "tcb9Wa545nOJ"
      },
      "execution_count": null,
      "outputs": []
    }
  ]
}